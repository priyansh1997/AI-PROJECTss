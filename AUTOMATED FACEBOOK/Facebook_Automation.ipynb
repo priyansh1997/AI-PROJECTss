{
 "cells": [
  {
   "cell_type": "code",
   "execution_count": null,
   "metadata": {},
   "outputs": [],
   "source": [
    "import random, os, sys, time, re\n",
    "from selenium import webdriver\n",
    "from bs4 import BeautifulSoup as bs\n",
    "import requests\n",
    "import pandas as pd\n",
    "import pyttsx3\n",
    "import speech_recognition as sr\n",
    "import pyaudio"
   ]
  },
  {
   "cell_type": "markdown",
   "metadata": {},
   "source": [
    "First things first we will import the libraries. Selenium is the library that we can use for connecting our code with the webrowser."
   ]
  },
  {
   "cell_type": "code",
   "execution_count": null,
   "metadata": {},
   "outputs": [],
   "source": [
    "browser = webdriver.Chrome('E:/AI/Facebook_automation/driver/chromedriver.exe')\n",
    "browser.get('https://www.facebook.com')"
   ]
  },
  {
   "cell_type": "markdown",
   "metadata": {},
   "source": [
    "Here we are defining the location of web browser and website that we have to open."
   ]
  },
  {
   "cell_type": "code",
   "execution_count": null,
   "metadata": {},
   "outputs": [],
   "source": [
    "file = open('E:/AI/Facebook_automation/config.txt')"
   ]
  },
  {
   "cell_type": "markdown",
   "metadata": {},
   "source": [
    "This file is having the details in first line we will have username and in second line its password."
   ]
  },
  {
   "cell_type": "code",
   "execution_count": null,
   "metadata": {},
   "outputs": [],
   "source": [
    "lines = file.readlines()\n",
    "username = lines[0]\n",
    "pswd = lines[1]"
   ]
  },
  {
   "cell_type": "markdown",
   "metadata": {},
   "source": [
    "Here we will read our first and second lines from .txt file"
   ]
  },
  {
   "cell_type": "code",
   "execution_count": null,
   "metadata": {},
   "outputs": [],
   "source": [
    "elementID = browser.find_element_by_id('email')\n",
    "elementID.send_keys(username)"
   ]
  },
  {
   "cell_type": "markdown",
   "metadata": {},
   "source": [
    "Now we will open the page source and we will check the element id of email box where we will provide the username."
   ]
  },
  {
   "cell_type": "code",
   "execution_count": null,
   "metadata": {},
   "outputs": [],
   "source": [
    "elementID = browser.find_element_by_id('pass')\n",
    "elementID.send_keys(pswd)"
   ]
  },
  {
   "cell_type": "markdown",
   "metadata": {},
   "source": [
    "Now we will check the element id of password box where we will provide the password."
   ]
  },
  {
   "cell_type": "code",
   "execution_count": null,
   "metadata": {},
   "outputs": [],
   "source": [
    "elementID.submit()"
   ]
  },
  {
   "cell_type": "markdown",
   "metadata": {},
   "source": [
    "Then we will submit the code."
   ]
  },
  {
   "cell_type": "code",
   "execution_count": null,
   "metadata": {},
   "outputs": [],
   "source": [
    "visiting_profile_id = '<profileid>'\n",
    "full_link = 'https://www.facebook.com' + visiting_profile_id\n",
    "browser.get(full_link)"
   ]
  },
  {
   "cell_type": "code",
   "execution_count": null,
   "metadata": {},
   "outputs": [],
   "source": [
    "visited_profile = []\n",
    "profile_queued = []"
   ]
  },
  {
   "cell_type": "code",
   "execution_count": null,
   "metadata": {},
   "outputs": [],
   "source": [
    "def new_profile_ID(soup, profile_queued):\n",
    "    profileID = []\n",
    "    chat = soup.find_element_by_class_name('uiScrollableAreaContent')\n",
    "    online_people = chat.find_elements_by_tag_name('a')\n",
    "    for link in online_people:\n",
    "        userID = link.get_attribute('href')\n",
    "        if ((userID not in profile_queued) and (userID not in visited_profile)):\n",
    "            profileID.append(userID)\n",
    "    return profileID"
   ]
  },
  {
   "cell_type": "markdown",
   "metadata": {},
   "source": [
    "Now we will make a function to get the list of people who are on chat."
   ]
  },
  {
   "cell_type": "code",
   "execution_count": null,
   "metadata": {},
   "outputs": [],
   "source": [
    "profile_queued = new_profile_ID(browser, profile_queued)"
   ]
  },
  {
   "cell_type": "code",
   "execution_count": null,
   "metadata": {},
   "outputs": [],
   "source": [
    "#sapi5 to take voices \n",
    "engine = pyttsx3.init('sapi5')\n",
    "voices = engine.getProperty('voices')\n",
    "#print(voices[1].id)\n",
    "#voices[0] for david voice\n",
    "engine.setProperty('voice',voices[1].id)"
   ]
  },
  {
   "cell_type": "markdown",
   "metadata": {},
   "source": [
    "Now we will use the Pyttsx3 lib and speech recognition lib to make our system recognize and speak what we want it to."
   ]
  },
  {
   "cell_type": "code",
   "execution_count": null,
   "metadata": {},
   "outputs": [],
   "source": [
    "def speak(audio):\n",
    "    engine.say(audio)\n",
    "    engine.runAndWait()"
   ]
  },
  {
   "cell_type": "code",
   "execution_count": null,
   "metadata": {},
   "outputs": [],
   "source": [
    "def takecmd():\n",
    "    r=sr.Recognizer()\n",
    "    with sr.Microphone() as source:\n",
    "        print(\"listening...\")\n",
    "        #press control and click on command to view its working\n",
    "        r.pause_threshold = 1\n",
    "        audio=r.listen(source)\n",
    "    \n",
    "    \n",
    "    try:\n",
    "        print(\"Recognizing...\")\n",
    "        query=r.recognize_google(audio,language='en-in')\n",
    "        print(f\"user said: {query}\\n\")\n",
    "\n",
    "\n",
    "    \n",
    "    except Exception as e:\n",
    "        #print(e)\n",
    "        print(\"say that again please\")\n",
    "        #returning string\n",
    "        return \"None\"\n",
    "    return query"
   ]
  },
  {
   "cell_type": "markdown",
   "metadata": {},
   "source": [
    "This function will provide an exception handling for system if it is unable to recognize the words that we speak. "
   ]
  },
  {
   "cell_type": "code",
   "execution_count": null,
   "metadata": {},
   "outputs": [],
   "source": [
    "if __name__==\"__main__\":\n",
    "    speak(k)\n",
    "    #takecmd()"
   ]
  },
  {
   "cell_type": "code",
   "execution_count": null,
   "metadata": {},
   "outputs": [],
   "source": [
    "people_to_chat = browser.find_elements_by_xpath('//*[@id=\"u_0_2c\"]/div/div/div[4]')\n",
    "people_to_chat_more_contacts = browser.find_elements_by_xpath('//*[@id=\"js_sh\"]/ul[2]')\n",
    "total_on_chat = people_to_chat + people_to_chat_more_contacts"
   ]
  },
  {
   "cell_type": "markdown",
   "metadata": {},
   "source": [
    "Here we will get the location of people on chat from element by xpath."
   ]
  },
  {
   "cell_type": "code",
   "execution_count": null,
   "metadata": {},
   "outputs": [],
   "source": [
    "for i in total_on_chat:\n",
    "    print(i.text)\n",
    "    speak(i.text)"
   ]
  },
  {
   "cell_type": "markdown",
   "metadata": {},
   "source": [
    "Now it will speak the number of people on chat."
   ]
  },
  {
   "cell_type": "code",
   "execution_count": null,
   "metadata": {},
   "outputs": [],
   "source": [
    "list_onchat_people_and_links = [on_chat, people_to_chat]\n",
    "on_chat = pd.Series(on_chat)"
   ]
  },
  {
   "cell_type": "markdown",
   "metadata": {},
   "source": [
    "Listing the people on chat"
   ]
  },
  {
   "cell_type": "code",
   "execution_count": null,
   "metadata": {},
   "outputs": [],
   "source": [
    "browser.find_element_by_link_text(\"<name_or_name_from_list>\").click()\n",
    "msg = query"
   ]
  },
  {
   "cell_type": "markdown",
   "metadata": {},
   "source": [
    "Now we will provide the name or we can tell the name which will be entered in the inverted commas."
   ]
  },
  {
   "cell_type": "code",
   "execution_count": null,
   "metadata": {},
   "outputs": [],
   "source": [
    "classm = browser.find_element_by_class_name('_1d4_')\n",
    "chat_class = classm.find_element_by_xpath('//*[@id=\"cch_f36acb99458eb68\"]/div/div/div/div/div/div/div/span/span')\n",
    "chat_class.send_keys(msg)\n",
    "send_key_class = browser.find_element_by_xpath('//*[@id=\"js_4gs\"]/div[4]/div/ul'"
   ]
  },
  {
   "cell_type": "markdown",
   "metadata": {},
   "source": [
    "Now the msg that we want to provide to the name that we entered will be spoken."
   ]
  },
  {
   "cell_type": "code",
   "execution_count": null,
   "metadata": {},
   "outputs": [],
   "source": [
    "#we have to separately run this line to send the msg\n",
    "send = send_key_class.find_element_by_class_name('svgIcon').click()"
   ]
  },
  {
   "cell_type": "markdown",
   "metadata": {},
   "source": [
    "Than we will send the msg to that particular person. "
   ]
  },
  {
   "cell_type": "markdown",
   "metadata": {},
   "source": [
    "## NOTE:- However we have to update the xpath of the code because of facebook security policy. It updates its labels and xpaths of webpage quite frequently."
   ]
  },
  {
   "cell_type": "code",
   "execution_count": null,
   "metadata": {},
   "outputs": [],
   "source": []
  }
 ],
 "metadata": {
  "kernelspec": {
   "display_name": "Python 3",
   "language": "python",
   "name": "python3"
  },
  "language_info": {
   "codemirror_mode": {
    "name": "ipython",
    "version": 3
   },
   "file_extension": ".py",
   "mimetype": "text/x-python",
   "name": "python",
   "nbconvert_exporter": "python",
   "pygments_lexer": "ipython3",
   "version": "3.6.5"
  }
 },
 "nbformat": 4,
 "nbformat_minor": 2
}
